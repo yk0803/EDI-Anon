{
 "cells": [
  {
   "cell_type": "code",
   "execution_count": null,
   "id": "168be264",
   "metadata": {},
   "outputs": [],
   "source": [
    "import numpy as np\n",
    "import torch\n",
    "import os\n",
    "import random\n",
    "from shutil import copyfile\n",
    "from sklearn.model_selection import train_test_split\n",
    "import torch.nn as nn\n",
    "import torchvision\n",
    "import torch.optim as optim\n",
    "import torchvision.models as models\n",
    "from tqdm import tqdm\n",
    "from torchvision import transforms\n",
    "from torchvision.datasets import ImageFolder\n",
    "from torchvision import datasets\n",
    "from torch.utils.data import random_split\n",
    "from torch.utils.data import DataLoader\n",
    "from sklearn.metrics import accuracy_score, confusion_matrix\n",
    "import matplotlib.pyplot as plt\n",
    "import torchvision.models as models\n",
    "from PIL import Image\n",
    "import cv2\n",
    "from torchvision.utils import save_image\n",
    "from true_classify import *\n",
    "from Utils import *\n",
    "from anonymization_methods import *\n",
    "from datasets import *\n",
    "from torchvision.transforms.functional import to_pil_image\n",
    "from collections import Counter\n",
    "import matplotlib.image as mpimg\n",
    "import time"
   ]
  },
  {
   "cell_type": "code",
   "execution_count": null,
   "id": "8d283082",
   "metadata": {},
   "outputs": [],
   "source": [
    "device = torch.device('cuda' if torch.cuda.is_available() else 'cpu')"
   ]
  },
  {
   "cell_type": "code",
   "execution_count": null,
   "id": "2543589c",
   "metadata": {},
   "outputs": [],
   "source": [
    "# define training and testing data directories\n",
    "classes = 'F:/Original/face_recognition'\n",
    "source_path = 'F:/Original/All FR/train'\n",
    "\n",
    "class_names = [folder for folder in os.listdir(source_path) if os.path.isdir(os.path.join(source_path, folder))]\n",
    "num_classes = len(class_names)\n",
    "\n",
    "file_list = os.listdir(source_path)\n",
    "model_dir = 'Convnext_pretrained_younas.pt'\n",
    "new_batch_size = 1"
   ]
  },
  {
   "cell_type": "code",
   "execution_count": null,
   "id": "948e3817",
   "metadata": {},
   "outputs": [],
   "source": [
    "# Define ARFace model\n",
    "model = models.convnext_base(pretrained=True)\n",
    "model.classifier[2]=nn.Linear(1024,num_classes)\n",
    "\n",
    "model.load_state_dict(torch.load('Convnext_pretrained_younas.pt'))\n",
    "model.to(device)"
   ]
  },
  {
   "cell_type": "code",
   "execution_count": null,
   "id": "d98def06",
   "metadata": {},
   "outputs": [],
   "source": [
    "# Define a new transform with additional data augmentations\n",
    "transform = transforms.Compose([\n",
    "    transforms.Resize(224),\n",
    "    transforms.ToTensor(),\n",
    "#     transforms.Normalize(mean=[0.485, 0.456, 0.406], std=[0.229, 0.224, 0.225]),\n",
    "])"
   ]
  },
  {
   "cell_type": "code",
   "execution_count": null,
   "id": "5bac89f5",
   "metadata": {},
   "outputs": [],
   "source": [
    "criterion = nn.CrossEntropyLoss()\n",
    "optimizer = torch.optim.Adam(model.parameters(), lr=0.00001)\n",
    "scheduler = torch.optim.lr_scheduler.StepLR(optimizer, step_size=20, gamma=0.001)"
   ]
  },
  {
   "cell_type": "code",
   "execution_count": null,
   "id": "bda5ec7d",
   "metadata": {},
   "outputs": [],
   "source": [
    "# define training and testing data directories\n",
    "source_path = 'F:/Anonymized/Original/DP_Blur/b_32_eps_0.1_k_99/Face_Recognition'\n",
    "our_test_loader = create_test_loader(source_path, new_batch_size)\n",
    "final_acc, correct_examples, labels, logits = test_images_true_classified(model, device, our_test_loader)\n",
    "print(final_acc*100)"
   ]
  },
  {
   "cell_type": "code",
   "execution_count": null,
   "id": "389aaa61",
   "metadata": {},
   "outputs": [],
   "source": [
    "0.7646095030038231"
   ]
  },
  {
   "cell_type": "code",
   "execution_count": null,
   "id": "19167f51",
   "metadata": {},
   "outputs": [],
   "source": [
    "# define training and testing data directories\n",
    "source_path = 'F:/Anonymized/Original/DP_Blur/b_32_eps_0.5_k_99/Face_Recognition'\n",
    "our_test_loader = create_test_loader(source_path, new_batch_size)\n",
    "final_acc, correct_examples, labels, logits = test_images_true_classified(model, device, our_test_loader)\n",
    "print(final_acc*100)"
   ]
  },
  {
   "cell_type": "code",
   "execution_count": null,
   "id": "970c9a3e",
   "metadata": {},
   "outputs": [],
   "source": [
    "14.36373566357182"
   ]
  },
  {
   "cell_type": "code",
   "execution_count": null,
   "id": "382d375a",
   "metadata": {},
   "outputs": [],
   "source": [
    "# define training and testing data directories\n",
    "source_path = 'F:/Anonymized/Original/DP_Blur/b_32_eps_1_k_99/Face_Recognition'\n",
    "our_test_loader = create_test_loader(source_path, new_batch_size)\n",
    "final_acc, correct_examples, labels, logits = test_images_true_classified(model, device, our_test_loader)\n",
    "print(final_acc*100)"
   ]
  },
  {
   "cell_type": "code",
   "execution_count": null,
   "id": "cee6e180",
   "metadata": {},
   "outputs": [],
   "source": [
    "34.02512288367013"
   ]
  },
  {
   "cell_type": "code",
   "execution_count": null,
   "id": "35f9ea09",
   "metadata": {},
   "outputs": [],
   "source": []
  },
  {
   "cell_type": "code",
   "execution_count": null,
   "id": "c4151d77",
   "metadata": {},
   "outputs": [],
   "source": [
    "# define training and testing data directories\n",
    "source_path = 'F:/Anonymized/Original/DP_Blur/b_16_eps_0.1_k_99/Face_Recognition'\n",
    "our_test_loader = create_test_loader(source_path, new_batch_size)\n",
    "final_acc, correct_examples, labels, logits = test_images_true_classified(model, device, our_test_loader)\n",
    "print(final_acc*100)"
   ]
  },
  {
   "cell_type": "code",
   "execution_count": null,
   "id": "946d4cb2",
   "metadata": {},
   "outputs": [],
   "source": [
    "1.228836701256144"
   ]
  },
  {
   "cell_type": "code",
   "execution_count": null,
   "id": "19259532",
   "metadata": {},
   "outputs": [],
   "source": [
    "source_path = 'F:/Anonymized/Original/DP_Blur/b_16_eps_0.5_k_99/Face_Recognition'\n",
    "our_test_loader = create_test_loader(source_path, new_batch_size)\n",
    "final_acc, correct_examples, labels, logits = test_images_true_classified(model, device, our_test_loader)\n",
    "print(final_acc*100)"
   ]
  },
  {
   "cell_type": "code",
   "execution_count": null,
   "id": "8eddebea",
   "metadata": {},
   "outputs": [],
   "source": [
    "1.9661387220098308"
   ]
  },
  {
   "cell_type": "code",
   "execution_count": null,
   "id": "e367f47d",
   "metadata": {},
   "outputs": [],
   "source": [
    "source_path = 'F:/Anonymized/Original/DP_Blur/b_16_eps_1_k_99/Face_Recognition'\n",
    "our_test_loader = create_test_loader(source_path, new_batch_size)\n",
    "final_acc, correct_examples, labels, logits = test_images_true_classified(model, device, our_test_loader)\n",
    "print(final_acc*100)"
   ]
  },
  {
   "cell_type": "code",
   "execution_count": null,
   "id": "fa11562c",
   "metadata": {},
   "outputs": [],
   "source": [
    "10.48607318405243"
   ]
  },
  {
   "cell_type": "code",
   "execution_count": null,
   "id": "f2d99f32",
   "metadata": {},
   "outputs": [],
   "source": []
  },
  {
   "cell_type": "code",
   "execution_count": null,
   "id": "8323761e",
   "metadata": {},
   "outputs": [],
   "source": [
    "source_path = 'F:/Anonymized/Original/Blur/BKS_40/Face_Recognition'\n",
    "our_test_loader = create_test_loader(source_path, new_batch_size)\n",
    "final_acc, correct_examples, labels, logits = test_images_true_classified(model, device, our_test_loader)\n",
    "print(final_acc*100)"
   ]
  },
  {
   "cell_type": "code",
   "execution_count": null,
   "id": "07b92669",
   "metadata": {},
   "outputs": [],
   "source": [
    "91.12506826870562"
   ]
  },
  {
   "cell_type": "code",
   "execution_count": null,
   "id": "8b313f07",
   "metadata": {},
   "outputs": [],
   "source": [
    "source_path = 'F:/Anonymized/Original/Blur/BKS_70/Face_Recognition'\n",
    "our_test_loader = create_test_loader(source_path, new_batch_size)\n",
    "final_acc, correct_examples, labels, logits = test_images_true_classified(model, device, our_test_loader)\n",
    "print(final_acc*100)"
   ]
  },
  {
   "cell_type": "code",
   "execution_count": null,
   "id": "84f9b4ea",
   "metadata": {},
   "outputs": [],
   "source": [
    "38.448935008192244"
   ]
  },
  {
   "cell_type": "code",
   "execution_count": null,
   "id": "96b5450a",
   "metadata": {},
   "outputs": [],
   "source": [
    "source_path = 'F:/Anonymized/Original/Blur/BKS_100/Face_Recognition'\n",
    "our_test_loader = create_test_loader(source_path, new_batch_size)\n",
    "final_acc, correct_examples, labels, logits = test_images_true_classified(model, device, our_test_loader)\n",
    "print(final_acc*100)"
   ]
  },
  {
   "cell_type": "code",
   "execution_count": null,
   "id": "0c4edf9b",
   "metadata": {},
   "outputs": [],
   "source": [
    "13.57181867831786"
   ]
  },
  {
   "cell_type": "code",
   "execution_count": null,
   "id": "834b369f",
   "metadata": {},
   "outputs": [],
   "source": []
  },
  {
   "cell_type": "code",
   "execution_count": null,
   "id": "bdd2cd8e",
   "metadata": {},
   "outputs": [],
   "source": [
    "source_path = 'F:/Anonymized/Original/Pix/BS_5/Face_Recognition'\n",
    "our_test_loader = create_test_loader(source_path, new_batch_size)\n",
    "final_acc, correct_examples, labels, logits = test_images_true_classified(model, device, our_test_loader)\n",
    "print(final_acc*100)"
   ]
  },
  {
   "cell_type": "code",
   "execution_count": null,
   "id": "6d4d61da",
   "metadata": {},
   "outputs": [],
   "source": [
    "100.0"
   ]
  },
  {
   "cell_type": "code",
   "execution_count": null,
   "id": "e18a5a17",
   "metadata": {},
   "outputs": [],
   "source": [
    "source_path = 'F:/Anonymized/Original/Pix/BS_15/Face_Recognition'\n",
    "our_test_loader = create_test_loader(source_path, new_batch_size)\n",
    "final_acc, correct_examples, labels, logits = test_images_true_classified(model, device, our_test_loader)\n",
    "print(final_acc*100)"
   ]
  },
  {
   "cell_type": "code",
   "execution_count": null,
   "id": "ffb099d3",
   "metadata": {},
   "outputs": [],
   "source": [
    "95.71272528672856"
   ]
  },
  {
   "cell_type": "code",
   "execution_count": null,
   "id": "0db59261",
   "metadata": {},
   "outputs": [],
   "source": [
    "source_path = 'F:/Anonymized/Original/Pix/BS_25/Face_Recognition'\n",
    "our_test_loader = create_test_loader(source_path, new_batch_size)\n",
    "final_acc, correct_examples, labels, logits = test_images_true_classified(model, device, our_test_loader)\n",
    "print(final_acc*100)"
   ]
  },
  {
   "cell_type": "code",
   "execution_count": null,
   "id": "2ae55826",
   "metadata": {},
   "outputs": [],
   "source": [
    "24.05789186237029"
   ]
  },
  {
   "cell_type": "code",
   "execution_count": null,
   "id": "b0155229",
   "metadata": {},
   "outputs": [],
   "source": []
  },
  {
   "cell_type": "code",
   "execution_count": null,
   "id": "7304d356",
   "metadata": {},
   "outputs": [],
   "source": [
    "source_path = 'F:/Anonymized/Original/Mouth_Masked/Face_Recognition'\n",
    "our_test_loader = create_test_loader(source_path, new_batch_size)\n",
    "final_acc, correct_examples, labels, logits = test_images_true_classified(model, device, our_test_loader)\n",
    "print(final_acc*100)"
   ]
  },
  {
   "cell_type": "code",
   "execution_count": null,
   "id": "bf787f59",
   "metadata": {},
   "outputs": [],
   "source": [
    "98.2796286182414"
   ]
  },
  {
   "cell_type": "code",
   "execution_count": null,
   "id": "61d0b174",
   "metadata": {},
   "outputs": [],
   "source": [
    "source_path = 'F:/Anonymized/Original/Eyes_Masked/Face_Recognition'\n",
    "our_test_loader = create_test_loader(source_path, new_batch_size)\n",
    "final_acc, correct_examples, labels, logits = test_images_true_classified(model, device, our_test_loader)\n",
    "print(final_acc*100)"
   ]
  },
  {
   "cell_type": "code",
   "execution_count": null,
   "id": "d7947234",
   "metadata": {},
   "outputs": [],
   "source": [
    "41.53468050245767"
   ]
  },
  {
   "cell_type": "code",
   "execution_count": null,
   "id": "9d55c7af",
   "metadata": {},
   "outputs": [],
   "source": []
  },
  {
   "cell_type": "code",
   "execution_count": null,
   "id": "e06f7b26",
   "metadata": {},
   "outputs": [],
   "source": [
    "source_path =\"F:/Anonymized/Original/DP_Pix/b_16_eps_1/Face_Recognition\"\n",
    "our_test_loader = create_test_loader(source_path, new_batch_size)\n",
    "final_acc, correct_examples, labels, logits = test_images_true_classified(model, device, our_test_loader)\n",
    "print(final_acc*100)"
   ]
  },
  {
   "cell_type": "code",
   "execution_count": null,
   "id": "84e995df",
   "metadata": {},
   "outputs": [],
   "source": []
  },
  {
   "cell_type": "code",
   "execution_count": null,
   "id": "f47d9b39",
   "metadata": {},
   "outputs": [],
   "source": []
  },
  {
   "cell_type": "code",
   "execution_count": null,
   "id": "73d0318c",
   "metadata": {},
   "outputs": [],
   "source": [
    "source_path = \"F:/Anonymized/Original/DP_Pix/b_8_eps_10/Face_Recognition\"\n",
    "our_test_loader = create_test_loader(source_path, new_batch_size)\n",
    "final_acc, correct_examples, labels, logits = test_images_true_classified(model, device, our_test_loader)\n",
    "print(final_acc*100)"
   ]
  },
  {
   "cell_type": "code",
   "execution_count": null,
   "id": "84de5e0a",
   "metadata": {},
   "outputs": [],
   "source": []
  }
 ],
 "metadata": {
  "kernelspec": {
   "display_name": "Python 3 (ipykernel)",
   "language": "python",
   "name": "python3"
  },
  "language_info": {
   "codemirror_mode": {
    "name": "ipython",
    "version": 3
   },
   "file_extension": ".py",
   "mimetype": "text/x-python",
   "name": "python",
   "nbconvert_exporter": "python",
   "pygments_lexer": "ipython3",
   "version": "3.10.9"
  }
 },
 "nbformat": 4,
 "nbformat_minor": 5
}
