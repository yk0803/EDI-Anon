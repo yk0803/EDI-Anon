{
 "cells": [
  {
   "cell_type": "code",
   "execution_count": 1,
   "id": "aad74105",
   "metadata": {},
   "outputs": [],
   "source": [
    "import cv2\n",
    "import matplotlib.pyplot as plt\n",
    "import glob\n",
    "import os\n",
    "import time"
   ]
  },
  {
   "cell_type": "code",
   "execution_count": 2,
   "id": "3d4b99ad",
   "metadata": {},
   "outputs": [],
   "source": [
    "mouth_cascade = cv2.CascadeClassifier('haarcascade_mcs_mouth.xml')"
   ]
  },
  {
   "cell_type": "code",
   "execution_count": 3,
   "id": "0cc9d608",
   "metadata": {},
   "outputs": [],
   "source": [
    "# Define the path to the input and output folders\n",
    "input_dir = \"D:/Younas_Work/D2_Final/Original/All FR/train\"\n",
    "output_dir = \"D:/Younas_Work/D2_Final/Anonymized/Original/Mouth_Masked_2/Face_Recognition\""
   ]
  },
  {
   "cell_type": "code",
   "execution_count": null,
   "id": "1ba878cd",
   "metadata": {},
   "outputs": [],
   "source": [
    "start_time = time.time()\n",
    "ds_factor = 0.75\n",
    "\n",
    "for sub_dir in os.listdir(input_dir):\n",
    "    if not os.path.isdir(os.path.join(input_dir, sub_dir)):\n",
    "        continue\n",
    "    sub_out_dir = os.path.join(output_dir, sub_dir)\n",
    "    if not os.path.exists(sub_out_dir):\n",
    "        os.makedirs(sub_out_dir)\n",
    "    sub_dir_path = os.path.join(input_dir, sub_dir, '*.jpg')\n",
    "    counter = 0\n",
    "    for img_path in glob.glob(sub_dir_path):\n",
    "        temp = cv2.imread(img_path)\n",
    "        gray = cv2.cvtColor(temp, cv2.COLOR_BGR2GRAY)\n",
    "        mouth_rects = mouth_cascade.detectMultiScale(gray, 1.82, 11)\n",
    "        for (x,y,w,h) in mouth_rects:\n",
    "            if x < 100 or x > 10000 or y < 300 or y > 10000:\n",
    "                continue\n",
    "            y = int(y - 0.15*h)\n",
    "            cv2.rectangle(temp, (x,y), (x+w,y+h), (236,236,28), -1)\n",
    "        temp = cv2.cvtColor(temp, cv2.COLOR_BGR2RGB)\n",
    "        out_path = os.path.join(sub_out_dir, f\"{counter}.jpg\")\n",
    "        temp = cv2.cvtColor(temp, cv2.COLOR_RGB2BGR)\n",
    "        cv2.imwrite(out_path, temp)\n",
    "        counter += 1\n",
    "end_time = time.time()\n",
    "overall_execution_time = end_time - start_time\n",
    "print(f\"\\nOverall execution time: {overall_execution_time} seconds\")\n",
    "print(\"All images processed.\")"
   ]
  },
  {
   "cell_type": "code",
   "execution_count": 4,
   "id": "c7267775",
   "metadata": {},
   "outputs": [
    {
     "name": "stdout",
     "output_type": "stream",
     "text": [
      "\n",
      "Overall execution time: 192.86970853805542 seconds\n",
      "All images processed.\n"
     ]
    }
   ],
   "source": [
    "start_time = time.time()\n",
    "\n",
    "for sub_dir in os.listdir(input_dir):\n",
    "    if not os.path.isdir(os.path.join(input_dir, sub_dir)):\n",
    "        continue\n",
    "    sub_out_dir = os.path.join(output_dir, sub_dir)\n",
    "    if not os.path.exists(sub_out_dir):\n",
    "        os.makedirs(sub_out_dir)\n",
    "    sub_dir_path = os.path.join(input_dir, sub_dir, '*.jpg')\n",
    "    counter = 0\n",
    "    for img_path in glob.glob(sub_dir_path):\n",
    "        temp = cv2.imread(img_path)\n",
    "        gray = cv2.cvtColor(temp, cv2.COLOR_BGR2GRAY)\n",
    "        mouth_rects = mouth_cascade.detectMultiScale(gray, scaleFactor=1.82, minNeighbors=11)\n",
    "        \n",
    "        # Select the largest detected mouth rectangle as the most suitable\n",
    "        largest_area = 0\n",
    "        largest_rect = None\n",
    "        for (x, y, w, h) in mouth_rects:\n",
    "            if x < 100 or x > 10000 or y < 300 or y > 10000:\n",
    "                continue\n",
    "            y = int(y - 0.15 * h)\n",
    "            area = w * h\n",
    "            if area > largest_area:\n",
    "                largest_area = area\n",
    "                largest_rect = (x, y, w, h)\n",
    "        \n",
    "        # Draw the most suitable rectangle if found\n",
    "        if largest_rect is not None:\n",
    "            x, y, w, h = largest_rect\n",
    "            cv2.rectangle(temp, (x, y), (x + w, y + h), (236, 236, 28), -1)\n",
    "        \n",
    "        temp = cv2.cvtColor(temp, cv2.COLOR_BGR2RGB)\n",
    "        out_path = os.path.join(sub_out_dir, f\"{counter}.jpg\")\n",
    "        temp = cv2.cvtColor(temp, cv2.COLOR_RGB2BGR)\n",
    "        cv2.imwrite(out_path, temp)\n",
    "        counter += 1\n",
    "\n",
    "end_time = time.time()\n",
    "overall_execution_time = end_time - start_time\n",
    "print(f\"\\nOverall execution time: {overall_execution_time} seconds\")\n",
    "print(\"All images processed.\")"
   ]
  }
 ],
 "metadata": {
  "kernelspec": {
   "display_name": "Python 3 (ipykernel)",
   "language": "python",
   "name": "python3"
  },
  "language_info": {
   "codemirror_mode": {
    "name": "ipython",
    "version": 3
   },
   "file_extension": ".py",
   "mimetype": "text/x-python",
   "name": "python",
   "nbconvert_exporter": "python",
   "pygments_lexer": "ipython3",
   "version": "3.9.13"
  }
 },
 "nbformat": 4,
 "nbformat_minor": 5
}
