{
 "cells": [
  {
   "cell_type": "code",
   "execution_count": 1,
   "id": "97f10afa",
   "metadata": {},
   "outputs": [],
   "source": [
    "import os\n",
    "import cv2\n",
    "import numpy as np\n",
    "from pathlib import Path\n",
    "import copy\n",
    "import time"
   ]
  },
  {
   "cell_type": "code",
   "execution_count": 2,
   "id": "cc4d7886",
   "metadata": {},
   "outputs": [],
   "source": [
    "# Define the path to the input and output folders\n",
    "input_dir = \"D:/Younas_Work/D2_Final/Original/All FR/train\"\n",
    "output_dir = \"D:/Younas_Work/D2_Final/Anonymized/Original/DP_Pix/Eps_0.1/Face_Recognition\"\n",
    "\n",
    "shape = [1024, 1024]\n",
    "eps = 0.1"
   ]
  },
  {
   "cell_type": "code",
   "execution_count": 3,
   "id": "959bd574",
   "metadata": {},
   "outputs": [],
   "source": [
    "# Create the output directory if it does not exist\n",
    "Path(output_dir).mkdir(parents=True, exist_ok=True)"
   ]
  },
  {
   "cell_type": "code",
   "execution_count": 4,
   "id": "3ac07f94",
   "metadata": {},
   "outputs": [],
   "source": [
    "def Pix(X_arr, b):\n",
    "    X_noise = []\n",
    "\n",
    "    for i in X_arr:\n",
    "        if len(i.shape) == 2:\n",
    "            x, y = i.shape\n",
    "        else:\n",
    "            x, y, z = i.shape\n",
    "\n",
    "        new_mg = copy.copy(i)\n",
    "\n",
    "        for i in range(0, x, b):\n",
    "            for j in range(0, y, b):\n",
    "                new_mg[i:i + b, j:j + b] = new_mg[i:i + b, j:j + b].mean(axis=(0, 1))\n",
    "        X_noise.append(new_mg)\n",
    "\n",
    "    X_noise = np.asarray(X_noise)\n",
    "\n",
    "    return X_noise"
   ]
  },
  {
   "cell_type": "code",
   "execution_count": 5,
   "id": "e06fad5b",
   "metadata": {},
   "outputs": [],
   "source": [
    "def DP_Pix(X_arr, b, m, eps):\n",
    "    X_noise = []\n",
    "    for k in X_arr:\n",
    "        if len(k.shape) == 2:\n",
    "            x, y = k.shape\n",
    "        else:\n",
    "            x, y, z = k.shape\n",
    "\n",
    "        new_mg = copy.copy(k)\n",
    "\n",
    "        for i in range(0, x, b):\n",
    "            for j in range(0, y, b):\n",
    "                new_mg[i:i + b, j:j + b] = new_mg[i:i + b, j:j + b].mean(axis=(0, 1)) \\\n",
    "                                           + np.random.laplace(loc=0.0, scale=(255 * m) / ((b ** 2) * eps), size=None)\n",
    "\n",
    "        X_noise.append(new_mg)\n",
    "\n",
    "    X_noise = np.asarray(X_noise)\n",
    "\n",
    "    return X_noise"
   ]
  },
  {
   "cell_type": "code",
   "execution_count": 6,
   "id": "ea428744",
   "metadata": {},
   "outputs": [
    {
     "name": "stdout",
     "output_type": "stream",
     "text": [
      "\n",
      "Overall execution time: 4876.436121702194 seconds\n",
      "All images processed.\n"
     ]
    }
   ],
   "source": [
    "start_time = time.time()\n",
    "# Loop through each folder in the input directory\n",
    "for foldername in os.listdir(input_dir):\n",
    "    folder_path = os.path.join(input_dir, foldername)\n",
    "    if os.path.isdir(folder_path):\n",
    "        # Create the corresponding subfolder in the output directory\n",
    "        output_folder_path = os.path.join(output_dir, foldername)\n",
    "        Path(output_folder_path).mkdir(parents=True, exist_ok=True)\n",
    "\n",
    "        # Loop through each file in the folder\n",
    "        for filename in os.listdir(folder_path):\n",
    "            file_path = os.path.join(folder_path, filename)\n",
    "            if os.path.isfile(file_path):\n",
    "                img = cv2.imread(file_path)\n",
    "                if img is None:\n",
    "                    print(f\"Skipping {file_path}\")\n",
    "                    continue\n",
    "\n",
    "                # Function Call\n",
    "                img = cv2.resize(img, shape)\n",
    "                img = Pix(img, 16)\n",
    "                img = DP_Pix(img, b=16, m=4, eps=eps)\n",
    "\n",
    "                # Save the processed image to the output folder\n",
    "                output_file_path = os.path.join(output_folder_path, filename)\n",
    "                cv2.imwrite(output_file_path, img)\n",
    "end_time = time.time()\n",
    "overall_execution_time = end_time - start_time\n",
    "print(f\"\\nOverall execution time: {overall_execution_time} seconds\")\n",
    "print(\"All images processed.\")"
   ]
  },
  {
   "cell_type": "code",
   "execution_count": 12,
   "id": "06f018e2",
   "metadata": {},
   "outputs": [],
   "source": [
    "# Define the path to the input and output folders\n",
    "input_dir = \"D:/Younas_Work/D2_Final/Original/All FR/train\"\n",
    "output_dir = \"D:/Younas_Work/D2_Final/Anonymized/Original/DP_Pix/Eps_0.3/Face_Recognition\"\n",
    "\n",
    "shape = [1024, 1024]\n",
    "eps = 0.3"
   ]
  },
  {
   "cell_type": "code",
   "execution_count": 13,
   "id": "f4724583",
   "metadata": {},
   "outputs": [],
   "source": [
    "# Create the output directory if it does not exist\n",
    "Path(output_dir).mkdir(parents=True, exist_ok=True)"
   ]
  },
  {
   "cell_type": "code",
   "execution_count": 14,
   "id": "0f63a0f8",
   "metadata": {},
   "outputs": [],
   "source": [
    "def Pix(X_arr, b):\n",
    "    X_noise = []\n",
    "\n",
    "    for i in X_arr:\n",
    "        if len(i.shape) == 2:\n",
    "            x, y = i.shape\n",
    "        else:\n",
    "            x, y, z = i.shape\n",
    "\n",
    "        new_mg = copy.copy(i)\n",
    "\n",
    "        for i in range(0, x, b):\n",
    "            for j in range(0, y, b):\n",
    "                new_mg[i:i + b, j:j + b] = new_mg[i:i + b, j:j + b].mean(axis=(0, 1))\n",
    "        X_noise.append(new_mg)\n",
    "\n",
    "    X_noise = np.asarray(X_noise)\n",
    "\n",
    "    return X_noise"
   ]
  },
  {
   "cell_type": "code",
   "execution_count": 15,
   "id": "420359c6",
   "metadata": {},
   "outputs": [],
   "source": [
    "def DP_Pix(X_arr, b, m, eps):\n",
    "    X_noise = []\n",
    "    for k in X_arr:\n",
    "        if len(k.shape) == 2:\n",
    "            x, y = k.shape\n",
    "        else:\n",
    "            x, y, z = k.shape\n",
    "\n",
    "        new_mg = copy.copy(k)\n",
    "\n",
    "        for i in range(0, x, b):\n",
    "            for j in range(0, y, b):\n",
    "                new_mg[i:i + b, j:j + b] = new_mg[i:i + b, j:j + b].mean(axis=(0, 1)) \\\n",
    "                                           + np.random.laplace(loc=0.0, scale=(255 * m) / ((b ** 2) * eps), size=None)\n",
    "\n",
    "        X_noise.append(new_mg)\n",
    "\n",
    "    X_noise = np.asarray(X_noise)\n",
    "\n",
    "    return X_noise"
   ]
  },
  {
   "cell_type": "code",
   "execution_count": 16,
   "id": "755db4fc",
   "metadata": {},
   "outputs": [
    {
     "name": "stdout",
     "output_type": "stream",
     "text": [
      "\n",
      "Overall execution time: 5085.332311630249 seconds\n",
      "All images processed.\n"
     ]
    }
   ],
   "source": [
    "start_time = time.time()\n",
    "# Loop through each folder in the input directory\n",
    "for foldername in os.listdir(input_dir):\n",
    "    folder_path = os.path.join(input_dir, foldername)\n",
    "    if os.path.isdir(folder_path):\n",
    "        # Create the corresponding subfolder in the output directory\n",
    "        output_folder_path = os.path.join(output_dir, foldername)\n",
    "        Path(output_folder_path).mkdir(parents=True, exist_ok=True)\n",
    "\n",
    "        # Loop through each file in the folder\n",
    "        for filename in os.listdir(folder_path):\n",
    "            file_path = os.path.join(folder_path, filename)\n",
    "            if os.path.isfile(file_path):\n",
    "                img = cv2.imread(file_path)\n",
    "                if img is None:\n",
    "                    print(f\"Skipping {file_path}\")\n",
    "                    continue\n",
    "\n",
    "                # Function Call\n",
    "                img = cv2.resize(img, shape)\n",
    "                img = Pix(img, 16)\n",
    "                img = DP_Pix(img, b=16, m=4, eps=eps)\n",
    "\n",
    "                # Save the processed image to the output folder\n",
    "                output_file_path = os.path.join(output_folder_path, filename)\n",
    "                cv2.imwrite(output_file_path, img)\n",
    "end_time = time.time()\n",
    "overall_execution_time = end_time - start_time\n",
    "print(f\"\\nOverall execution time: {overall_execution_time} seconds\")\n",
    "print(\"All images processed.\")"
   ]
  },
  {
   "cell_type": "code",
   "execution_count": 17,
   "id": "296576a8",
   "metadata": {},
   "outputs": [],
   "source": [
    "# Define the path to the input and output folders\n",
    "input_dir = \"D:/Younas_Work/D2_Final/Original/All FR/train\"\n",
    "output_dir = \"D:/Younas_Work/D2_Final/Anonymized/New/DP_Pix/Eps_0.5/Face_Recognition\"\n",
    "\n",
    "shape = [1024, 1024]\n",
    "eps = 0.5"
   ]
  },
  {
   "cell_type": "code",
   "execution_count": 18,
   "id": "db5ae4d4",
   "metadata": {},
   "outputs": [],
   "source": [
    "# Create the output directory if it does not exist\n",
    "Path(output_dir).mkdir(parents=True, exist_ok=True)"
   ]
  },
  {
   "cell_type": "code",
   "execution_count": 19,
   "id": "def8899a",
   "metadata": {},
   "outputs": [],
   "source": [
    "def Pix(X_arr, b):\n",
    "    X_noise = []\n",
    "\n",
    "    for i in X_arr:\n",
    "        if len(i.shape) == 2:\n",
    "            x, y = i.shape\n",
    "        else:\n",
    "            x, y, z = i.shape\n",
    "\n",
    "        new_mg = copy.copy(i)\n",
    "\n",
    "        for i in range(0, x, b):\n",
    "            for j in range(0, y, b):\n",
    "                new_mg[i:i + b, j:j + b] = new_mg[i:i + b, j:j + b].mean(axis=(0, 1))\n",
    "        X_noise.append(new_mg)\n",
    "\n",
    "    X_noise = np.asarray(X_noise)\n",
    "\n",
    "    return X_noise"
   ]
  },
  {
   "cell_type": "code",
   "execution_count": 20,
   "id": "c82d6c51",
   "metadata": {},
   "outputs": [],
   "source": [
    "def DP_Pix(X_arr, b, m, eps):\n",
    "    X_noise = []\n",
    "    for k in X_arr:\n",
    "        if len(k.shape) == 2:\n",
    "            x, y = k.shape\n",
    "        else:\n",
    "            x, y, z = k.shape\n",
    "\n",
    "        new_mg = copy.copy(k)\n",
    "\n",
    "        for i in range(0, x, b):\n",
    "            for j in range(0, y, b):\n",
    "                new_mg[i:i + b, j:j + b] = new_mg[i:i + b, j:j + b].mean(axis=(0, 1)) \\\n",
    "                                           + np.random.laplace(loc=0.0, scale=(255 * m) / ((b ** 2) * eps), size=None)\n",
    "\n",
    "        X_noise.append(new_mg)\n",
    "\n",
    "    X_noise = np.asarray(X_noise)\n",
    "\n",
    "    return X_noise"
   ]
  },
  {
   "cell_type": "code",
   "execution_count": 21,
   "id": "38c7f756",
   "metadata": {},
   "outputs": [
    {
     "name": "stdout",
     "output_type": "stream",
     "text": [
      "\n",
      "Overall execution time: 4896.5447318553925 seconds\n",
      "All images processed.\n"
     ]
    }
   ],
   "source": [
    "start_time = time.time()\n",
    "# Loop through each folder in the input directory\n",
    "for foldername in os.listdir(input_dir):\n",
    "    folder_path = os.path.join(input_dir, foldername)\n",
    "    if os.path.isdir(folder_path):\n",
    "        # Create the corresponding subfolder in the output directory\n",
    "        output_folder_path = os.path.join(output_dir, foldername)\n",
    "        Path(output_folder_path).mkdir(parents=True, exist_ok=True)\n",
    "\n",
    "        # Loop through each file in the folder\n",
    "        for filename in os.listdir(folder_path):\n",
    "            file_path = os.path.join(folder_path, filename)\n",
    "            if os.path.isfile(file_path):\n",
    "                img = cv2.imread(file_path)\n",
    "                if img is None:\n",
    "                    print(f\"Skipping {file_path}\")\n",
    "                    continue\n",
    "\n",
    "                # Function Call\n",
    "                img = cv2.resize(img, shape)\n",
    "                img = Pix(img, 16)\n",
    "                img = DP_Pix(img, b=16, m=4, eps=eps)\n",
    "\n",
    "                # Save the processed image to the output folder\n",
    "                output_file_path = os.path.join(output_folder_path, filename)\n",
    "                cv2.imwrite(output_file_path, img)\n",
    "end_time = time.time()\n",
    "overall_execution_time = end_time - start_time\n",
    "print(f\"\\nOverall execution time: {overall_execution_time} seconds\")\n",
    "print(\"All images processed.\")"
   ]
  },
  {
   "cell_type": "code",
   "execution_count": null,
   "id": "b756ea51",
   "metadata": {},
   "outputs": [],
   "source": [
    "Overall execution time: 4876.436121702194 seconds\n",
    "All images processed.\n",
    "\n",
    "\n",
    "Overall execution time: 5085.332311630249 seconds\n",
    "All images processed.\n",
    "\n",
    "\n",
    "Overall execution time: 4896.5447318553925 seconds\n",
    "All images processed."
   ]
  }
 ],
 "metadata": {
  "kernelspec": {
   "display_name": "Python 3 (ipykernel)",
   "language": "python",
   "name": "python3"
  },
  "language_info": {
   "codemirror_mode": {
    "name": "ipython",
    "version": 3
   },
   "file_extension": ".py",
   "mimetype": "text/x-python",
   "name": "python",
   "nbconvert_exporter": "python",
   "pygments_lexer": "ipython3",
   "version": "3.9.13"
  }
 },
 "nbformat": 4,
 "nbformat_minor": 5
}
