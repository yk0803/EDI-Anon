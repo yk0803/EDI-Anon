{
 "cells": [
  {
   "cell_type": "code",
   "execution_count": 1,
   "id": "97f10afa",
   "metadata": {},
   "outputs": [],
   "source": [
    "import os\n",
    "import cv2\n",
    "import numpy as np\n",
    "from pathlib import Path\n",
    "import copy\n",
    "import time"
   ]
  },
  {
   "cell_type": "code",
   "execution_count": 2,
   "id": "29f1a240",
   "metadata": {},
   "outputs": [],
   "source": [
    "# with b 16 and eps 1, the face is clear and the noise can be seen\n",
    "# with b 16 and eps 0.5, there is still a face but more noise\n",
    "# with b 16 and eps 0.1, there is no face\n",
    "\n",
    "# for b = 8,16,32, the blocks are too small and hence the noise added is huge\n",
    "# face started appearing for b = 40, 48, 56\n",
    "# though the face was not that clear, we stopped at 64\n",
    "# we wanted to keep the noise at its highest for this so did not change the eps\n",
    "\n",
    "\n",
    "# tried with b 64, and a higher eps value but the face was very pixelated\n",
    "# tried again with b 32 and eps 0.5 the face is relatively better\n",
    "# tried again with b 24 and eps 0.5 and the face is much better\n",
    "\n",
    "\n",
    "\n",
    "#An interesting observation is that as we have to pixelate the images first, for both DP Pix and DP Blur \n",
    "#even after the eps is increased so much i.e. to 100 or even even higher, and it practically nullifies the noise added\n",
    "#by the laplace distribution, the original impact of the pixelation will still be there\n",
    "#hence the block size chosen for pixelating the images has to be carefully selected\n",
    "#the authors did not realize this, as their dataset only contained images of 92 * 112, and they did not experiment with\n",
    "# a b size of more than 16, and for lower values of b, they concluded that increasing the size of b will result in higher\n",
    "#utility, which is not a correct inference."
   ]
  },
  {
   "cell_type": "code",
   "execution_count": 3,
   "id": "cc4d7886",
   "metadata": {},
   "outputs": [],
   "source": [
    "# Define the path to the input and output folders\n",
    "input_dir = \"F:/Original/All FR/train\"\n",
    "output_dir = \"F:/Anonymized/Original/DP_Pix/b_8_eps_10/Face_Recognition\"\n",
    "\n",
    "b= 8\n",
    "eps = 10\n",
    "m = 16"
   ]
  },
  {
   "cell_type": "code",
   "execution_count": 4,
   "id": "959bd574",
   "metadata": {},
   "outputs": [],
   "source": [
    "# Create the output directory if it does not exist\n",
    "Path(output_dir).mkdir(parents=True, exist_ok=True)"
   ]
  },
  {
   "cell_type": "code",
   "execution_count": 5,
   "id": "8f092734",
   "metadata": {},
   "outputs": [],
   "source": [
    "def create_dp_pixelated_image(x, b, m, eps):\n",
    "    img = torch.squeeze(x)\n",
    "    img1 = np.transpose(img.cpu().detach().numpy(), (1, 2, 0))\n",
    "    \n",
    "    \n",
    "    pix = Pix(img1, b)\n",
    "    DP_Pixed = DP_Pix(pix, b, m, eps)\n",
    "    \n",
    "    DP_Pixed1 = torch.from_numpy(np.transpose(DP_Pixed, (2, 0, 1)))\n",
    "    DP_Pixed_tensor = torch.unsqueeze(DP_Pixed1, 0)\n",
    "    \n",
    "    return DP_Pixed_tensor"
   ]
  },
  {
   "cell_type": "code",
   "execution_count": 6,
   "id": "2fa2eb45",
   "metadata": {},
   "outputs": [],
   "source": [
    "def Pix(X_arr, b):\n",
    "    X_noise = []\n",
    "    \n",
    "    (b_channel, g_channel, r_channel) = cv2.split(X_arr)\n",
    "    new_b = copy.copy(b_channel)\n",
    "    new_g = copy.copy(g_channel)\n",
    "    new_r = copy.copy(r_channel)\n",
    "    x, y = new_b.shape\n",
    "    \n",
    "    for i in range(0, x, b):\n",
    "        for j in range(0, y, b):\n",
    "            new_b[i:i + b, j:j + b] = new_b[i:i + b, j:j + b].mean(axis=(0, 1))\n",
    "    for i in range(0, x, b):\n",
    "        for j in range(0, y, b):\n",
    "            new_g[i:i + b, j:j + b] = new_g[i:i + b, j:j + b].mean(axis=(0, 1))\n",
    "    for i in range(0, x, b):\n",
    "        for j in range(0, y, b):\n",
    "            new_r[i:i + b, j:j + b] = new_r[i:i + b, j:j + b].mean(axis=(0, 1))\n",
    "                \n",
    "    X_noise = cv2.merge((new_b,new_g,new_r))\n",
    "    \n",
    "    return X_noise"
   ]
  },
  {
   "cell_type": "code",
   "execution_count": 7,
   "id": "a37e8844",
   "metadata": {},
   "outputs": [],
   "source": [
    "def DP_Pix(X_arr, b, m, eps):\n",
    "    \n",
    "    \n",
    "    X_noise = []\n",
    "    (b_channel, g_channel, r_channel) = cv2.split(X_arr)\n",
    "    new_b = copy.copy(b_channel)\n",
    "    new_g = copy.copy(g_channel)\n",
    "    new_r = copy.copy(r_channel)\n",
    "    x, y = new_b.shape\n",
    "    \n",
    "    for i in range(0, x, b):\n",
    "        for j in range(0, y, b):\n",
    "            new_b[i:i + b, j:j + b] = new_b[i:i + b, j:j + b].mean(axis=(0, 1)) \\\n",
    "                                       + np.random.laplace(loc=0.0, scale=(255 * m) / ((b ** 2) * eps), size=None)\n",
    "    for i in range(0, x, b):\n",
    "        for j in range(0, y, b):\n",
    "            new_g[i:i + b, j:j + b] = new_g[i:i + b, j:j + b].mean(axis=(0, 1)) \\\n",
    "                                       + np.random.laplace(loc=0.0, scale=(255 * m) / ((b ** 2) * eps), size=None)\n",
    "    for i in range(0, x, b):\n",
    "        for j in range(0, y, b):\n",
    "            new_r[i:i + b, j:j + b] = new_r[i:i + b, j:j + b].mean(axis=(0, 1)) \\\n",
    "                                           + np.random.laplace(loc=0.0, scale=(255 * m) / ((b ** 2) * eps), size=None)\n",
    "                \n",
    "    X_noise = cv2.merge((new_b,new_g,new_r))\n",
    "    return X_noise"
   ]
  },
  {
   "cell_type": "code",
   "execution_count": 8,
   "id": "ea428744",
   "metadata": {},
   "outputs": [
    {
     "name": "stdout",
     "output_type": "stream",
     "text": [
      "\n",
      "Overall execution time: 3371.1568353176117 seconds\n",
      "All images processed.\n"
     ]
    }
   ],
   "source": [
    "start_time = time.time()\n",
    "# Loop through each folder in the input directory\n",
    "for foldername in os.listdir(input_dir):\n",
    "    folder_path = os.path.join(input_dir, foldername)\n",
    "    if os.path.isdir(folder_path):\n",
    "        # Create the corresponding subfolder in the output directory\n",
    "        output_folder_path = os.path.join(output_dir, foldername)\n",
    "        Path(output_folder_path).mkdir(parents=True, exist_ok=True)\n",
    "\n",
    "        # Loop through each file in the folder\n",
    "        for filename in os.listdir(folder_path):\n",
    "            file_path = os.path.join(folder_path, filename)\n",
    "            if os.path.isfile(file_path):\n",
    "                img = cv2.imread(file_path)\n",
    "                if img is None:\n",
    "                    print(f\"Skipping {file_path}\")\n",
    "                    continue\n",
    "\n",
    "                img = Pix(img, b)\n",
    "                img = DP_Pix(img, b, m, eps)\n",
    "\n",
    "                # Save the processed image to the output folder\n",
    "                output_file_path = os.path.join(output_folder_path, filename)\n",
    "                cv2.imwrite(output_file_path, img)\n",
    "end_time = time.time()\n",
    "overall_execution_time = end_time - start_time\n",
    "print(f\"\\nOverall execution time: {overall_execution_time} seconds\")\n",
    "print(\"All images processed.\")"
   ]
  },
  {
   "cell_type": "code",
   "execution_count": null,
   "id": "188bf38e",
   "metadata": {},
   "outputs": [],
   "source": []
  },
  {
   "cell_type": "code",
   "execution_count": null,
   "id": "b94fe8c2",
   "metadata": {},
   "outputs": [],
   "source": [
    "Overall execution time: 902.8989746570587 seconds\n",
    "All images processed."
   ]
  },
  {
   "cell_type": "code",
   "execution_count": null,
   "id": "dadaac2a",
   "metadata": {},
   "outputs": [],
   "source": []
  },
  {
   "cell_type": "code",
   "execution_count": null,
   "id": "06f018e2",
   "metadata": {},
   "outputs": [],
   "source": [
    "# Define the path to the input and output folders\n",
    "# Define the path to the input and output folders\n",
    "input_dir = \"F:/Original/All FR/train\"\n",
    "output_dir = \"F:/Anonymized/Original/DP_Pix/b_32_eps_0.5/Face_Recognition\"\n",
    "\n",
    "b= 32\n",
    "eps = 0.5\n",
    "m = 16"
   ]
  },
  {
   "cell_type": "code",
   "execution_count": null,
   "id": "f4724583",
   "metadata": {},
   "outputs": [],
   "source": [
    "# Create the output directory if it does not exist\n",
    "Path(output_dir).mkdir(parents=True, exist_ok=True)"
   ]
  },
  {
   "cell_type": "code",
   "execution_count": null,
   "id": "bab54039",
   "metadata": {},
   "outputs": [],
   "source": [
    "start_time = time.time()\n",
    "# Loop through each folder in the input directory\n",
    "for foldername in os.listdir(input_dir):\n",
    "    folder_path = os.path.join(input_dir, foldername)\n",
    "    if os.path.isdir(folder_path):\n",
    "        # Create the corresponding subfolder in the output directory\n",
    "        output_folder_path = os.path.join(output_dir, foldername)\n",
    "        Path(output_folder_path).mkdir(parents=True, exist_ok=True)\n",
    "\n",
    "        # Loop through each file in the folder\n",
    "        for filename in os.listdir(folder_path):\n",
    "            file_path = os.path.join(folder_path, filename)\n",
    "            if os.path.isfile(file_path):\n",
    "                img = cv2.imread(file_path)\n",
    "                if img is None:\n",
    "                    print(f\"Skipping {file_path}\")\n",
    "                    continue\n",
    "\n",
    "                img = Pix(img, b)\n",
    "                img = DP_Pix(img, b, m, eps)\n",
    "\n",
    "                # Save the processed image to the output folder\n",
    "                output_file_path = os.path.join(output_folder_path, filename)\n",
    "                cv2.imwrite(output_file_path, img)\n",
    "end_time = time.time()\n",
    "overall_execution_time = end_time - start_time\n",
    "print(f\"\\nOverall execution time: {overall_execution_time} seconds\")\n",
    "print(\"All images processed.\")"
   ]
  },
  {
   "cell_type": "code",
   "execution_count": null,
   "id": "b6c3335a",
   "metadata": {},
   "outputs": [],
   "source": [
    "\n",
    "Overall execution time: 939.7353801727295 seconds\n",
    "All images processed."
   ]
  },
  {
   "cell_type": "code",
   "execution_count": null,
   "id": "c3c6b7e8",
   "metadata": {},
   "outputs": [],
   "source": []
  },
  {
   "cell_type": "code",
   "execution_count": null,
   "id": "296576a8",
   "metadata": {},
   "outputs": [],
   "source": [
    "# Define the path to the input and output folders\n",
    "# Define the path to the input and output folders\n",
    "input_dir = \"F:/Original/All FR/train\"\n",
    "output_dir = \"F:/Anonymized/Original/DP_Pix/b_32_eps_1/Face_Recognition\"\n",
    "\n",
    "b= 32\n",
    "eps = 1\n",
    "m = 16"
   ]
  },
  {
   "cell_type": "code",
   "execution_count": null,
   "id": "db5ae4d4",
   "metadata": {},
   "outputs": [],
   "source": [
    "# Create the output directory if it does not exist\n",
    "Path(output_dir).mkdir(parents=True, exist_ok=True)"
   ]
  },
  {
   "cell_type": "code",
   "execution_count": null,
   "id": "95b7308b",
   "metadata": {},
   "outputs": [],
   "source": [
    "start_time = time.time()\n",
    "# Loop through each folder in the input directory\n",
    "for foldername in os.listdir(input_dir):\n",
    "    folder_path = os.path.join(input_dir, foldername)\n",
    "    if os.path.isdir(folder_path):\n",
    "        # Create the corresponding subfolder in the output directory\n",
    "        output_folder_path = os.path.join(output_dir, foldername)\n",
    "        Path(output_folder_path).mkdir(parents=True, exist_ok=True)\n",
    "\n",
    "        # Loop through each file in the folder\n",
    "        for filename in os.listdir(folder_path):\n",
    "            file_path = os.path.join(folder_path, filename)\n",
    "            if os.path.isfile(file_path):\n",
    "                img = cv2.imread(file_path)\n",
    "                if img is None:\n",
    "                    print(f\"Skipping {file_path}\")\n",
    "                    continue\n",
    "\n",
    "                img = Pix(img, b)\n",
    "                img = DP_Pix(img, b, m, eps)\n",
    "\n",
    "                # Save the processed image to the output folder\n",
    "                output_file_path = os.path.join(output_folder_path, filename)\n",
    "                cv2.imwrite(output_file_path, img)\n",
    "end_time = time.time()\n",
    "overall_execution_time = end_time - start_time\n",
    "print(f\"\\nOverall execution time: {overall_execution_time} seconds\")\n",
    "print(\"All images processed.\")"
   ]
  },
  {
   "cell_type": "code",
   "execution_count": null,
   "id": "0d52a30c",
   "metadata": {},
   "outputs": [],
   "source": []
  },
  {
   "cell_type": "code",
   "execution_count": null,
   "id": "e2ed070c",
   "metadata": {},
   "outputs": [],
   "source": []
  }
 ],
 "metadata": {
  "kernelspec": {
   "display_name": "Python 3 (ipykernel)",
   "language": "python",
   "name": "python3"
  },
  "language_info": {
   "codemirror_mode": {
    "name": "ipython",
    "version": 3
   },
   "file_extension": ".py",
   "mimetype": "text/x-python",
   "name": "python",
   "nbconvert_exporter": "python",
   "pygments_lexer": "ipython3",
   "version": "3.10.9"
  }
 },
 "nbformat": 4,
 "nbformat_minor": 5
}
