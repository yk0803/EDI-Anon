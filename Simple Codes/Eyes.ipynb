{
 "cells": [
  {
   "cell_type": "code",
   "execution_count": null,
   "id": "664cedc5",
   "metadata": {},
   "outputs": [],
   "source": [
    "import cv2\n",
    "import matplotlib.pyplot as plt\n",
    "import glob\n",
    "import os\n",
    "import time"
   ]
  },
  {
   "cell_type": "code",
   "execution_count": null,
   "id": "297d4f4d",
   "metadata": {},
   "outputs": [],
   "source": [
    "eye_cascade = cv2.CascadeClassifier('haarcascade_eye.xml')"
   ]
  },
  {
   "cell_type": "code",
   "execution_count": null,
   "id": "33c6cbad",
   "metadata": {},
   "outputs": [],
   "source": [
    "# Define the path to the input and output folders\n",
    "input_dir = \"D:/Younas_Work/D2_Final/Original/All FR/train\"\n",
    "output_dir = \"D:/Younas_Work/D2_Final/Anonymized/Original/Eyes_Masked/Face_Recognition\""
   ]
  },
  {
   "cell_type": "code",
   "execution_count": null,
   "id": "78000082",
   "metadata": {},
   "outputs": [],
   "source": [
    "radius = 140\n",
    "color = (0, 0, 255)\n",
    "thickness = -1"
   ]
  },
  {
   "cell_type": "code",
   "execution_count": null,
   "id": "a0000671",
   "metadata": {},
   "outputs": [],
   "source": [
    "start_time = time.time()\n",
    "for folder in glob.glob('D:/Younas_Work/D2_Final/Original/All FR/train/*'):\n",
    "    foldername = os.path.basename(folder)\n",
    "    os.makedirs(os.path.join(output_dir, foldername), exist_ok=True)\n",
    "    counter = 0\n",
    "    for img in glob.glob(os.path.join(folder, '*.jpg')):\n",
    "        temp = cv2.imread(img)\n",
    "        eyes = eye_cascade.detectMultiScale(temp, scaleFactor=1.2, minNeighbors=4)\n",
    "        for (x, y, w, h) in eyes:\n",
    "            if x< 200 or x> 700 or y< 100 or y> 450:\n",
    "                continue\n",
    "            temp = cv2.circle(temp, (int((x + w / 2)), int((y + h / 2))), radius, color, thickness)\n",
    "        cv2.cvtColor(temp, cv2.COLOR_BGR2RGB)\n",
    "        # Resize the image back to 256x256\n",
    "        cv2.imwrite(os.path.join(output_dir, foldername, str(counter) + \".jpg\"), temp)\n",
    "        counter += 1\n",
    "end_time = time.time()\n",
    "overall_execution_time = end_time - start_time\n",
    "print(f\"\\nOverall execution time: {overall_execution_time} seconds\")\n",
    "print(\"All images processed.\")"
   ]
  },
  {
   "cell_type": "code",
   "execution_count": null,
   "id": "449744d1",
   "metadata": {},
   "outputs": [],
   "source": []
  }
 ],
 "metadata": {
  "kernelspec": {
   "display_name": "Python 3 (ipykernel)",
   "language": "python",
   "name": "python3"
  },
  "language_info": {
   "codemirror_mode": {
    "name": "ipython",
    "version": 3
   },
   "file_extension": ".py",
   "mimetype": "text/x-python",
   "name": "python",
   "nbconvert_exporter": "python",
   "pygments_lexer": "ipython3",
   "version": "3.9.13"
  }
 },
 "nbformat": 4,
 "nbformat_minor": 5
}
