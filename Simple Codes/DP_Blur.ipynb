{
 "cells": [
  {
   "cell_type": "code",
   "execution_count": 1,
   "id": "db50f899",
   "metadata": {},
   "outputs": [],
   "source": [
    "import os\n",
    "import cv2\n",
    "import numpy as np\n",
    "from pathlib import Path\n",
    "import copy\n",
    "import glob\n",
    "import time"
   ]
  },
  {
   "cell_type": "code",
   "execution_count": 15,
   "id": "28bea435",
   "metadata": {},
   "outputs": [],
   "source": [
    "# Define the path to the input and output folders\n",
    "input_dir = \"F:/Original/All FR/train\"\n",
    "output_dir = \"F:/Anonymized/Original/DP_Blur/b_16_eps_0.1_k_99/Face_Recognition\""
   ]
  },
  {
   "cell_type": "code",
   "execution_count": 16,
   "id": "3cb8f649",
   "metadata": {},
   "outputs": [],
   "source": [
    "k = 99\n",
    "eps = 0.1\n",
    "\n",
    "# b = 8, 16, 24, 32 leave no face in it, whereas for k = 40, 48, and 56 some contour of the face appears\n",
    "# so for the experiments we fixed m at 16 as suggested, and we changed 3 values, i.e. eps .1, .5, and 1,\n",
    "# we eased the noise in the next trials by having a bigger b of 96 and 128, but this will increase the block size\n",
    "# and a smaller kernel of 79 and 59,\n",
    "# along with that the epsilon was increased respectively\n",
    "b = 16\n",
    "m = 16\n",
    "sigma = 0"
   ]
  },
  {
   "cell_type": "code",
   "execution_count": 17,
   "id": "1b9b570a",
   "metadata": {},
   "outputs": [],
   "source": [
    "def DP_Blur(X_arr, b, m, eps, k, sigma):\n",
    "    img = Pix(X_arr, b)\n",
    "    img = DP_Pix(img, b, m, eps)\n",
    "    img = Gauss_Blur2(img, k, sigma)\n",
    "\n",
    "    return img"
   ]
  },
  {
   "cell_type": "code",
   "execution_count": 18,
   "id": "567dde02",
   "metadata": {},
   "outputs": [],
   "source": [
    "def Pix(X_arr, b):\n",
    "    X_noise = []\n",
    "    \n",
    "    (b_channel, g_channel, r_channel) = cv2.split(X_arr)\n",
    "    new_b = copy.copy(b_channel)\n",
    "    new_g = copy.copy(g_channel)\n",
    "    new_r = copy.copy(r_channel)\n",
    "    x, y = new_b.shape\n",
    "    \n",
    "    for i in range(0, x, b):\n",
    "        for j in range(0, y, b):\n",
    "            new_b[i:i + b, j:j + b] = new_b[i:i + b, j:j + b].mean(axis=(0, 1))\n",
    "    for i in range(0, x, b):\n",
    "        for j in range(0, y, b):\n",
    "            new_g[i:i + b, j:j + b] = new_g[i:i + b, j:j + b].mean(axis=(0, 1))\n",
    "    for i in range(0, x, b):\n",
    "        for j in range(0, y, b):\n",
    "            new_r[i:i + b, j:j + b] = new_r[i:i + b, j:j + b].mean(axis=(0, 1))\n",
    "                \n",
    "    X_noise = cv2.merge((new_b,new_g,new_r))\n",
    "    \n",
    "    return X_noise"
   ]
  },
  {
   "cell_type": "code",
   "execution_count": 19,
   "id": "2dae85ca",
   "metadata": {},
   "outputs": [],
   "source": [
    "def DP_Pix(X_arr, b, m, eps):\n",
    "    \n",
    "    \n",
    "    X_noise = []\n",
    "    (b_channel, g_channel, r_channel) = cv2.split(X_arr)\n",
    "    new_b = copy.copy(b_channel)\n",
    "    new_g = copy.copy(g_channel)\n",
    "    new_r = copy.copy(r_channel)\n",
    "    x, y = new_b.shape\n",
    "    \n",
    "    for i in range(0, x, b):\n",
    "        for j in range(0, y, b):\n",
    "            new_b[i:i + b, j:j + b] = new_b[i:i + b, j:j + b].mean(axis=(0, 1)) \\\n",
    "                                       + np.random.laplace(loc=0.0, scale=(255 * m) / ((b ** 2) * eps), size=None)\n",
    "    for i in range(0, x, b):\n",
    "        for j in range(0, y, b):\n",
    "            new_g[i:i + b, j:j + b] = new_g[i:i + b, j:j + b].mean(axis=(0, 1)) \\\n",
    "                                       + np.random.laplace(loc=0.0, scale=(255 * m) / ((b ** 2) * eps), size=None)\n",
    "    for i in range(0, x, b):\n",
    "        for j in range(0, y, b):\n",
    "            new_r[i:i + b, j:j + b] = new_r[i:i + b, j:j + b].mean(axis=(0, 1)) \\\n",
    "                                           + np.random.laplace(loc=0.0, scale=(255 * m) / ((b ** 2) * eps), size=None)\n",
    "                \n",
    "    X_noise = cv2.merge((new_b,new_g,new_r))\n",
    "    return X_noise"
   ]
  },
  {
   "cell_type": "code",
   "execution_count": 20,
   "id": "0df41069",
   "metadata": {},
   "outputs": [],
   "source": [
    "def Gauss_Blur2(X_arr, k, sigma):\n",
    "    X_noise = []\n",
    "\n",
    "    (b_channel, g_channel, r_channel) = cv2.split(X_arr)\n",
    "    new_b = copy.copy(b_channel)\n",
    "    new_g = copy.copy(g_channel)\n",
    "    new_r = copy.copy(r_channel)\n",
    "    x, y = new_b.shape\n",
    "\n",
    "    # Apply GaussianBlur to each channel\n",
    "    new_b = cv2.GaussianBlur(new_b, (k, k), sigma)\n",
    "    new_g = cv2.GaussianBlur(new_g, (k, k), sigma)\n",
    "    new_r = cv2.GaussianBlur(new_r, (k, k), sigma)\n",
    "\n",
    "    X_noise = cv2.merge((new_b, new_g, new_r))\n",
    "\n",
    "    return X_noise\n"
   ]
  },
  {
   "cell_type": "code",
   "execution_count": 21,
   "id": "58798c0e",
   "metadata": {},
   "outputs": [
    {
     "name": "stdout",
     "output_type": "stream",
     "text": [
      "\n",
      "Overall execution time: 1048.0290756225586 seconds\n",
      "All images processed.\n"
     ]
    }
   ],
   "source": [
    "start_time = time.time()\n",
    "\n",
    "\n",
    "# Loop through each folder in the input directory\n",
    "for foldername in os.listdir(input_dir):\n",
    "    folder_path = os.path.join(input_dir, foldername)\n",
    "    if os.path.isdir(folder_path):\n",
    "        # Create the corresponding subfolder in the output directory\n",
    "        output_folder_path = os.path.join(output_dir, foldername)\n",
    "        Path(output_folder_path).mkdir(parents=True, exist_ok=True)\n",
    "\n",
    "        # Loop through each file in the folder\n",
    "        for filename in os.listdir(folder_path):\n",
    "            file_path = os.path.join(folder_path, filename)\n",
    "            if os.path.isfile(file_path):\n",
    "                img = cv2.imread(file_path)\n",
    "                if img is None:\n",
    "                    print(f\"Skipping {file_path}\")\n",
    "                    continue\n",
    "\n",
    "                img = DP_Blur(img, b, m, eps, k, sigma = 0)\n",
    "#                 img = Gauss_Blur2(img, k, sigma = 0)\n",
    "\n",
    "                # Save the processed image to the output folder\n",
    "                output_file_path = os.path.join(output_folder_path, filename)\n",
    "                cv2.imwrite(output_file_path, img)\n",
    "end_time = time.time()\n",
    "overall_execution_time = end_time - start_time\n",
    "print(f\"\\nOverall execution time: {overall_execution_time} seconds\")\n",
    "print(\"All images processed.\")"
   ]
  },
  {
   "cell_type": "code",
   "execution_count": null,
   "id": "aa150665",
   "metadata": {},
   "outputs": [],
   "source": []
  },
  {
   "cell_type": "code",
   "execution_count": 22,
   "id": "69072d85",
   "metadata": {},
   "outputs": [],
   "source": [
    "# Define the path to the input and output folders\n",
    "input_dir = \"F:/Original/All FR/train\"\n",
    "output_dir = \"F:/Anonymized/Original/DP_Blur/b_16_eps_0.5_k_99/Face_Recognition\""
   ]
  },
  {
   "cell_type": "code",
   "execution_count": 23,
   "id": "5ca75e38",
   "metadata": {},
   "outputs": [],
   "source": [
    "k = 99\n",
    "eps = 0.5\n",
    "b = 16\n",
    "m = 16\n",
    "sigma = 0"
   ]
  },
  {
   "cell_type": "code",
   "execution_count": 24,
   "id": "ebae0a40",
   "metadata": {},
   "outputs": [
    {
     "name": "stdout",
     "output_type": "stream",
     "text": [
      "\n",
      "Overall execution time: 1062.4136111736298 seconds\n",
      "All images processed.\n"
     ]
    }
   ],
   "source": [
    "start_time = time.time()\n",
    "\n",
    "\n",
    "# Loop through each folder in the input directory\n",
    "for foldername in os.listdir(input_dir):\n",
    "    folder_path = os.path.join(input_dir, foldername)\n",
    "    if os.path.isdir(folder_path):\n",
    "        # Create the corresponding subfolder in the output directory\n",
    "        output_folder_path = os.path.join(output_dir, foldername)\n",
    "        Path(output_folder_path).mkdir(parents=True, exist_ok=True)\n",
    "\n",
    "        # Loop through each file in the folder\n",
    "        for filename in os.listdir(folder_path):\n",
    "            file_path = os.path.join(folder_path, filename)\n",
    "            if os.path.isfile(file_path):\n",
    "                img = cv2.imread(file_path)\n",
    "                if img is None:\n",
    "                    print(f\"Skipping {file_path}\")\n",
    "                    continue\n",
    "\n",
    "                img = DP_Blur(img, b, m, eps, k, sigma = 0)\n",
    "#                 img = Gauss_Blur2(img, k, sigma = 0)\n",
    "\n",
    "                # Save the processed image to the output folder\n",
    "                output_file_path = os.path.join(output_folder_path, filename)\n",
    "                cv2.imwrite(output_file_path, img)\n",
    "end_time = time.time()\n",
    "overall_execution_time = end_time - start_time\n",
    "print(f\"\\nOverall execution time: {overall_execution_time} seconds\")\n",
    "print(\"All images processed.\")"
   ]
  },
  {
   "cell_type": "code",
   "execution_count": null,
   "id": "560be861",
   "metadata": {},
   "outputs": [],
   "source": []
  },
  {
   "cell_type": "code",
   "execution_count": 25,
   "id": "dccb582b",
   "metadata": {},
   "outputs": [],
   "source": [
    "# Define the path to the input and output folders\n",
    "input_dir = \"F:/Original/All FR/train\"\n",
    "output_dir = \"F:/Anonymized/Original/DP_Blur/b_16_eps_1_k_99/Face_Recognition\""
   ]
  },
  {
   "cell_type": "code",
   "execution_count": 26,
   "id": "8f6668fc",
   "metadata": {},
   "outputs": [],
   "source": [
    "k = 99\n",
    "eps = 1\n",
    "b = 16\n",
    "m = 16\n",
    "sigma = 0"
   ]
  },
  {
   "cell_type": "code",
   "execution_count": 27,
   "id": "f535f17c",
   "metadata": {},
   "outputs": [
    {
     "name": "stdout",
     "output_type": "stream",
     "text": [
      "\n",
      "Overall execution time: 1062.072304725647 seconds\n",
      "All images processed.\n"
     ]
    }
   ],
   "source": [
    "start_time = time.time()\n",
    "\n",
    "\n",
    "# Loop through each folder in the input directory\n",
    "for foldername in os.listdir(input_dir):\n",
    "    folder_path = os.path.join(input_dir, foldername)\n",
    "    if os.path.isdir(folder_path):\n",
    "        # Create the corresponding subfolder in the output directory\n",
    "        output_folder_path = os.path.join(output_dir, foldername)\n",
    "        Path(output_folder_path).mkdir(parents=True, exist_ok=True)\n",
    "\n",
    "        # Loop through each file in the folder\n",
    "        for filename in os.listdir(folder_path):\n",
    "            file_path = os.path.join(folder_path, filename)\n",
    "            if os.path.isfile(file_path):\n",
    "                img = cv2.imread(file_path)\n",
    "                if img is None:\n",
    "                    print(f\"Skipping {file_path}\")\n",
    "                    continue\n",
    "\n",
    "                img = DP_Blur(img, b, m, eps, k, sigma = 0)\n",
    "#                 img = Gauss_Blur2(img, k, sigma = 0)\n",
    "\n",
    "                # Save the processed image to the output folder\n",
    "                output_file_path = os.path.join(output_folder_path, filename)\n",
    "                cv2.imwrite(output_file_path, img)\n",
    "end_time = time.time()\n",
    "overall_execution_time = end_time - start_time\n",
    "print(f\"\\nOverall execution time: {overall_execution_time} seconds\")\n",
    "print(\"All images processed.\")"
   ]
  },
  {
   "cell_type": "code",
   "execution_count": null,
   "id": "cfa45474",
   "metadata": {},
   "outputs": [],
   "source": []
  },
  {
   "cell_type": "code",
   "execution_count": null,
   "id": "3ba61307",
   "metadata": {},
   "outputs": [],
   "source": []
  }
 ],
 "metadata": {
  "kernelspec": {
   "display_name": "Python 3 (ipykernel)",
   "language": "python",
   "name": "python3"
  },
  "language_info": {
   "codemirror_mode": {
    "name": "ipython",
    "version": 3
   },
   "file_extension": ".py",
   "mimetype": "text/x-python",
   "name": "python",
   "nbconvert_exporter": "python",
   "pygments_lexer": "ipython3",
   "version": "3.10.9"
  }
 },
 "nbformat": 4,
 "nbformat_minor": 5
}
