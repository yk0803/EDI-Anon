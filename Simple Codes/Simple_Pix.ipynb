{
 "cells": [
  {
   "cell_type": "code",
   "execution_count": 1,
   "id": "6df73363",
   "metadata": {},
   "outputs": [],
   "source": [
    "import os\n",
    "import cv2\n",
    "import numpy as np\n",
    "from pathlib import Path\n",
    "import time"
   ]
  },
  {
   "cell_type": "code",
   "execution_count": 2,
   "id": "7e76c871",
   "metadata": {},
   "outputs": [],
   "source": [
    "# Define the path to the input and output folders\n",
    "input_dir = \"F:/Original/All FR/train\"\n",
    "output_dir = \"F:/Anonymized/Original/Pix/BS_5/Face_Recognition\""
   ]
  },
  {
   "cell_type": "code",
   "execution_count": 3,
   "id": "605a63e4",
   "metadata": {},
   "outputs": [],
   "source": [
    "# Define the size of the pixelation blocks\n",
    "pixel_size = 5\n",
    "\n",
    "# Create the output directory if it does not exist\n",
    "Path(output_dir).mkdir(parents=True, exist_ok=True)"
   ]
  },
  {
   "cell_type": "code",
   "execution_count": 4,
   "id": "4aa8df1d",
   "metadata": {},
   "outputs": [
    {
     "name": "stdout",
     "output_type": "stream",
     "text": [
      "\n",
      "Overall execution time: 132.87001371383667 seconds\n",
      "All images processed.\n"
     ]
    }
   ],
   "source": [
    "start_time = time.time()\n",
    "# Loop through each folder in the input directory\n",
    "for foldername in os.listdir(input_dir):\n",
    "    folder_path = os.path.join(input_dir, foldername)\n",
    "    if os.path.isdir(folder_path):\n",
    "        # Create the corresponding subfolder in the output directory\n",
    "        output_folder_path = os.path.join(output_dir, foldername)\n",
    "        Path(output_folder_path).mkdir(parents=True, exist_ok=True)\n",
    "\n",
    "        # Loop through each file in the folder\n",
    "        for filename in os.listdir(folder_path):\n",
    "            file_path = os.path.join(folder_path, filename)\n",
    "            if os.path.isfile(file_path):\n",
    "                img = cv2.imread(file_path)\n",
    "                if img is None:\n",
    "                    print(f\"Skipping {file_path}\")\n",
    "                    continue\n",
    "\n",
    "                # Pixelate the image\n",
    "                h, w = img.shape[:2]\n",
    "                new_h = h // pixel_size\n",
    "                new_w = w // pixel_size\n",
    "                img = cv2.resize(img, (new_w, new_h), interpolation=cv2.INTER_LINEAR)\n",
    "                img = cv2.resize(img, (w, h), interpolation=cv2.INTER_NEAREST)\n",
    "\n",
    "                # Save the pixelated image to the output folder\n",
    "                output_file_path = os.path.join(output_folder_path, filename)\n",
    "                cv2.imwrite(output_file_path, img)\n",
    "end_time = time.time()\n",
    "overall_execution_time = end_time - start_time\n",
    "print(f\"\\nOverall execution time: {overall_execution_time} seconds\")\n",
    "print(\"All images processed.\")"
   ]
  },
  {
   "cell_type": "code",
   "execution_count": null,
   "id": "70d65756",
   "metadata": {},
   "outputs": [],
   "source": []
  },
  {
   "cell_type": "code",
   "execution_count": null,
   "id": "965280ac",
   "metadata": {},
   "outputs": [],
   "source": []
  },
  {
   "cell_type": "code",
   "execution_count": 5,
   "id": "29374af0",
   "metadata": {},
   "outputs": [],
   "source": [
    "# Define the path to the input and output folders\n",
    "input_dir = \"F:/Original/All FR/train\"\n",
    "output_dir = \"F:/Anonymized/Original/Pix/BS_15/Face_Recognition\""
   ]
  },
  {
   "cell_type": "code",
   "execution_count": 6,
   "id": "37ae49b4",
   "metadata": {},
   "outputs": [],
   "source": [
    "# Define the size of the pixelation blocks\n",
    "pixel_size = 15\n",
    "\n",
    "# Create the output directory if it does not exist\n",
    "Path(output_dir).mkdir(parents=True, exist_ok=True)"
   ]
  },
  {
   "cell_type": "code",
   "execution_count": 7,
   "id": "1e19ab47",
   "metadata": {},
   "outputs": [
    {
     "name": "stdout",
     "output_type": "stream",
     "text": [
      "\n",
      "Overall execution time: 91.84865283966064 seconds\n",
      "All images processed.\n"
     ]
    }
   ],
   "source": [
    "start_time = time.time()\n",
    "# Loop through each folder in the input directory\n",
    "for foldername in os.listdir(input_dir):\n",
    "    folder_path = os.path.join(input_dir, foldername)\n",
    "    if os.path.isdir(folder_path):\n",
    "        # Create the corresponding subfolder in the output directory\n",
    "        output_folder_path = os.path.join(output_dir, foldername)\n",
    "        Path(output_folder_path).mkdir(parents=True, exist_ok=True)\n",
    "\n",
    "        # Loop through each file in the folder\n",
    "        for filename in os.listdir(folder_path):\n",
    "            file_path = os.path.join(folder_path, filename)\n",
    "            if os.path.isfile(file_path):\n",
    "                img = cv2.imread(file_path)\n",
    "                if img is None:\n",
    "                    print(f\"Skipping {file_path}\")\n",
    "                    continue\n",
    "\n",
    "                # Pixelate the image\n",
    "                h, w = img.shape[:2]\n",
    "                new_h = h // pixel_size\n",
    "                new_w = w // pixel_size\n",
    "                img = cv2.resize(img, (new_w, new_h), interpolation=cv2.INTER_LINEAR)\n",
    "                img = cv2.resize(img, (w, h), interpolation=cv2.INTER_NEAREST)\n",
    "\n",
    "                # Save the pixelated image to the output folder\n",
    "                output_file_path = os.path.join(output_folder_path, filename)\n",
    "                cv2.imwrite(output_file_path, img)\n",
    "end_time = time.time()\n",
    "overall_execution_time = end_time - start_time\n",
    "print(f\"\\nOverall execution time: {overall_execution_time} seconds\")\n",
    "print(\"All images processed.\")"
   ]
  },
  {
   "cell_type": "code",
   "execution_count": null,
   "id": "27ab5f37",
   "metadata": {},
   "outputs": [],
   "source": []
  },
  {
   "cell_type": "code",
   "execution_count": 8,
   "id": "c5cbed19",
   "metadata": {},
   "outputs": [],
   "source": [
    "# Define the path to the input and output folders\n",
    "input_dir = \"F:/Original/All FR/train\"\n",
    "output_dir = \"F:/Anonymized/Original/Pix/BS_25/Face_Recognition\""
   ]
  },
  {
   "cell_type": "code",
   "execution_count": 9,
   "id": "0bbd7065",
   "metadata": {},
   "outputs": [],
   "source": [
    "# Define the size of the pixelation blocks\n",
    "pixel_size = 25\n",
    "\n",
    "# Create the output directory if it does not exist\n",
    "Path(output_dir).mkdir(parents=True, exist_ok=True)"
   ]
  },
  {
   "cell_type": "code",
   "execution_count": 10,
   "id": "b276fc32",
   "metadata": {},
   "outputs": [
    {
     "name": "stdout",
     "output_type": "stream",
     "text": [
      "\n",
      "Overall execution time: 113.04395699501038 seconds\n",
      "All images processed.\n"
     ]
    }
   ],
   "source": [
    "start_time = time.time()\n",
    "# Loop through each folder in the input directory\n",
    "for foldername in os.listdir(input_dir):\n",
    "    folder_path = os.path.join(input_dir, foldername)\n",
    "    if os.path.isdir(folder_path):\n",
    "        # Create the corresponding subfolder in the output directory\n",
    "        output_folder_path = os.path.join(output_dir, foldername)\n",
    "        Path(output_folder_path).mkdir(parents=True, exist_ok=True)\n",
    "\n",
    "        # Loop through each file in the folder\n",
    "        for filename in os.listdir(folder_path):\n",
    "            file_path = os.path.join(folder_path, filename)\n",
    "            if os.path.isfile(file_path):\n",
    "                img = cv2.imread(file_path)\n",
    "                if img is None:\n",
    "                    print(f\"Skipping {file_path}\")\n",
    "                    continue\n",
    "\n",
    "                # Pixelate the image\n",
    "                h, w = img.shape[:2]\n",
    "                new_h = h // pixel_size\n",
    "                new_w = w // pixel_size\n",
    "                img = cv2.resize(img, (new_w, new_h), interpolation=cv2.INTER_LINEAR)\n",
    "                img = cv2.resize(img, (w, h), interpolation=cv2.INTER_NEAREST)\n",
    "\n",
    "                # Save the pixelated image to the output folder\n",
    "                output_file_path = os.path.join(output_folder_path, filename)\n",
    "                cv2.imwrite(output_file_path, img)\n",
    "end_time = time.time()\n",
    "overall_execution_time = end_time - start_time\n",
    "print(f\"\\nOverall execution time: {overall_execution_time} seconds\")\n",
    "print(\"All images processed.\")"
   ]
  },
  {
   "cell_type": "code",
   "execution_count": null,
   "id": "d4b86a1b",
   "metadata": {},
   "outputs": [],
   "source": []
  },
  {
   "cell_type": "code",
   "execution_count": null,
   "id": "7f9f77bf",
   "metadata": {},
   "outputs": [],
   "source": []
  }
 ],
 "metadata": {
  "kernelspec": {
   "display_name": "Python 3 (ipykernel)",
   "language": "python",
   "name": "python3"
  },
  "language_info": {
   "codemirror_mode": {
    "name": "ipython",
    "version": 3
   },
   "file_extension": ".py",
   "mimetype": "text/x-python",
   "name": "python",
   "nbconvert_exporter": "python",
   "pygments_lexer": "ipython3",
   "version": "3.10.9"
  }
 },
 "nbformat": 4,
 "nbformat_minor": 5
}
