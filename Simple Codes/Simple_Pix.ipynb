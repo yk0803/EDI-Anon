{
 "cells": [
  {
   "cell_type": "code",
   "execution_count": null,
   "id": "6df73363",
   "metadata": {},
   "outputs": [],
   "source": [
    "import os\n",
    "import cv2\n",
    "import numpy as np\n",
    "from pathlib import Path\n",
    "import time"
   ]
  },
  {
   "cell_type": "code",
   "execution_count": null,
   "id": "7e76c871",
   "metadata": {},
   "outputs": [],
   "source": [
    "# Define the path to the input and output folders\n",
    "input_dir = \"D:/Younas_Work/D2_Final/Original/All FR/train\"\n",
    "output_dir = \"D:/Younas_Work/D2_Final/Anonymized/Original/Simple_Pix/BS_75/Face_Recognition\""
   ]
  },
  {
   "cell_type": "code",
   "execution_count": null,
   "id": "605a63e4",
   "metadata": {},
   "outputs": [],
   "source": [
    "# Define the size of the pixelation blocks\n",
    "pixel_size = 75\n",
    "\n",
    "# Create the output directory if it does not exist\n",
    "Path(output_dir).mkdir(parents=True, exist_ok=True)"
   ]
  },
  {
   "cell_type": "code",
   "execution_count": null,
   "id": "4aa8df1d",
   "metadata": {},
   "outputs": [],
   "source": [
    "start_time = time.time()\n",
    "# Loop through each folder in the input directory\n",
    "for foldername in os.listdir(input_dir):\n",
    "    folder_path = os.path.join(input_dir, foldername)\n",
    "    if os.path.isdir(folder_path):\n",
    "        # Create the corresponding subfolder in the output directory\n",
    "        output_folder_path = os.path.join(output_dir, foldername)\n",
    "        Path(output_folder_path).mkdir(parents=True, exist_ok=True)\n",
    "\n",
    "        # Loop through each file in the folder\n",
    "        for filename in os.listdir(folder_path):\n",
    "            file_path = os.path.join(folder_path, filename)\n",
    "            if os.path.isfile(file_path):\n",
    "                img = cv2.imread(file_path)\n",
    "                if img is None:\n",
    "                    print(f\"Skipping {file_path}\")\n",
    "                    continue\n",
    "\n",
    "                # Pixelate the image\n",
    "                h, w = img.shape[:2]\n",
    "                new_h = h // pixel_size\n",
    "                new_w = w // pixel_size\n",
    "                img = cv2.resize(img, (new_w, new_h), interpolation=cv2.INTER_LINEAR)\n",
    "                img = cv2.resize(img, (w, h), interpolation=cv2.INTER_NEAREST)\n",
    "\n",
    "                # Save the pixelated image to the output folder\n",
    "                output_file_path = os.path.join(output_folder_path, filename)\n",
    "                cv2.imwrite(output_file_path, img)\n",
    "end_time = time.time()\n",
    "overall_execution_time = end_time - start_time\n",
    "print(f\"\\nOverall execution time: {overall_execution_time} seconds\")\n",
    "print(\"All images processed.\")"
   ]
  },
  {
   "cell_type": "code",
   "execution_count": null,
   "id": "70d65756",
   "metadata": {},
   "outputs": [],
   "source": [
    "Overall execution time: 84.41554069519043 seconds\n",
    "All images processed."
   ]
  },
  {
   "cell_type": "code",
   "execution_count": null,
   "id": "29374af0",
   "metadata": {},
   "outputs": [],
   "source": [
    "# Define the path to the input and output folders\n",
    "input_dir = \"D:/Younas_Work/D2_Final/Original/All FR/train\"\n",
    "output_dir = \"D:/Younas_Work/D2_Final/Anonymized/Original/Simple_Pix/BS_15/Face_Recognition\""
   ]
  },
  {
   "cell_type": "code",
   "execution_count": null,
   "id": "37ae49b4",
   "metadata": {},
   "outputs": [],
   "source": [
    "# Define the size of the pixelation blocks\n",
    "pixel_size = 15\n",
    "\n",
    "# Create the output directory if it does not exist\n",
    "Path(output_dir).mkdir(parents=True, exist_ok=True)"
   ]
  },
  {
   "cell_type": "code",
   "execution_count": null,
   "id": "1e19ab47",
   "metadata": {},
   "outputs": [],
   "source": [
    "start_time = time.time()\n",
    "# Loop through each folder in the input directory\n",
    "for foldername in os.listdir(input_dir):\n",
    "    folder_path = os.path.join(input_dir, foldername)\n",
    "    if os.path.isdir(folder_path):\n",
    "        # Create the corresponding subfolder in the output directory\n",
    "        output_folder_path = os.path.join(output_dir, foldername)\n",
    "        Path(output_folder_path).mkdir(parents=True, exist_ok=True)\n",
    "\n",
    "        # Loop through each file in the folder\n",
    "        for filename in os.listdir(folder_path):\n",
    "            file_path = os.path.join(folder_path, filename)\n",
    "            if os.path.isfile(file_path):\n",
    "                img = cv2.imread(file_path)\n",
    "                if img is None:\n",
    "                    print(f\"Skipping {file_path}\")\n",
    "                    continue\n",
    "\n",
    "                # Pixelate the image\n",
    "                h, w = img.shape[:2]\n",
    "                new_h = h // pixel_size\n",
    "                new_w = w // pixel_size\n",
    "                img = cv2.resize(img, (new_w, new_h), interpolation=cv2.INTER_LINEAR)\n",
    "                img = cv2.resize(img, (w, h), interpolation=cv2.INTER_NEAREST)\n",
    "\n",
    "                # Save the pixelated image to the output folder\n",
    "                output_file_path = os.path.join(output_folder_path, filename)\n",
    "                cv2.imwrite(output_file_path, img)\n",
    "end_time = time.time()\n",
    "overall_execution_time = end_time - start_time\n",
    "print(f\"\\nOverall execution time: {overall_execution_time} seconds\")\n",
    "print(\"All images processed.\")"
   ]
  },
  {
   "cell_type": "code",
   "execution_count": null,
   "id": "27ab5f37",
   "metadata": {},
   "outputs": [],
   "source": []
  },
  {
   "cell_type": "code",
   "execution_count": null,
   "id": "c5cbed19",
   "metadata": {},
   "outputs": [],
   "source": [
    "# Define the path to the input and output folders\n",
    "input_dir = \"D:/Younas_Work/D2_Final/Original/All FR/train\"\n",
    "output_dir = \"D:/Younas_Work/D2_Final/Anonymized/Original/Simple_Pix/BS_25/Face_Recognition\""
   ]
  },
  {
   "cell_type": "code",
   "execution_count": null,
   "id": "0bbd7065",
   "metadata": {},
   "outputs": [],
   "source": [
    "# Define the size of the pixelation blocks\n",
    "pixel_size = 25\n",
    "\n",
    "# Create the output directory if it does not exist\n",
    "Path(output_dir).mkdir(parents=True, exist_ok=True)"
   ]
  },
  {
   "cell_type": "code",
   "execution_count": null,
   "id": "b276fc32",
   "metadata": {},
   "outputs": [],
   "source": [
    "start_time = time.time()\n",
    "# Loop through each folder in the input directory\n",
    "for foldername in os.listdir(input_dir):\n",
    "    folder_path = os.path.join(input_dir, foldername)\n",
    "    if os.path.isdir(folder_path):\n",
    "        # Create the corresponding subfolder in the output directory\n",
    "        output_folder_path = os.path.join(output_dir, foldername)\n",
    "        Path(output_folder_path).mkdir(parents=True, exist_ok=True)\n",
    "\n",
    "        # Loop through each file in the folder\n",
    "        for filename in os.listdir(folder_path):\n",
    "            file_path = os.path.join(folder_path, filename)\n",
    "            if os.path.isfile(file_path):\n",
    "                img = cv2.imread(file_path)\n",
    "                if img is None:\n",
    "                    print(f\"Skipping {file_path}\")\n",
    "                    continue\n",
    "\n",
    "                # Pixelate the image\n",
    "                h, w = img.shape[:2]\n",
    "                new_h = h // pixel_size\n",
    "                new_w = w // pixel_size\n",
    "                img = cv2.resize(img, (new_w, new_h), interpolation=cv2.INTER_LINEAR)\n",
    "                img = cv2.resize(img, (w, h), interpolation=cv2.INTER_NEAREST)\n",
    "\n",
    "                # Save the pixelated image to the output folder\n",
    "                output_file_path = os.path.join(output_folder_path, filename)\n",
    "                cv2.imwrite(output_file_path, img)\n",
    "end_time = time.time()\n",
    "overall_execution_time = end_time - start_time\n",
    "print(f\"\\nOverall execution time: {overall_execution_time} seconds\")\n",
    "print(\"All images processed.\")"
   ]
  },
  {
   "cell_type": "code",
   "execution_count": null,
   "id": "d4b86a1b",
   "metadata": {},
   "outputs": [],
   "source": []
  },
  {
   "cell_type": "code",
   "execution_count": null,
   "id": "7f9f77bf",
   "metadata": {},
   "outputs": [],
   "source": []
  },
  {
   "cell_type": "code",
   "execution_count": null,
   "id": "356f312a",
   "metadata": {},
   "outputs": [],
   "source": []
  },
  {
   "cell_type": "code",
   "execution_count": null,
   "id": "13648705",
   "metadata": {},
   "outputs": [],
   "source": []
  },
  {
   "cell_type": "code",
   "execution_count": null,
   "id": "30df1713",
   "metadata": {},
   "outputs": [],
   "source": [
    "import os\n",
    "import shutil"
   ]
  },
  {
   "cell_type": "code",
   "execution_count": null,
   "id": "eead7e52",
   "metadata": {},
   "outputs": [],
   "source": [
    "# Define the destination directories\n",
    "destination_directory_black = \"F:/younas/D2 Final Exps/Original/Simple_Mouth/Race/Black/\"\n",
    "destination_directory_chinese = \"F:/younas/D2 Final Exps/Original/Simple_Mouth/Race/Chinese/\"\n",
    "destination_directory_indian = \"F:/younas/D2 Final Exps/Original/Simple_Mouth/Race/Indian/\"\n",
    "destination_directory_korean = \"F:/younas/D2 Final Exps/Original/Simple_Mouth/Race/Korean/\"\n",
    "destination_directory_white = \"F:/younas/D2 Final Exps/Original/Simple_Mouth/Race/White/\"\n",
    "\n",
    "# Define the source directory\n",
    "source_directory = \"F:/younas/D2 Final Exps/Original/Simple_Mouth/FR/\""
   ]
  },
  {
   "cell_type": "code",
   "execution_count": null,
   "id": "ea375364",
   "metadata": {},
   "outputs": [],
   "source": [
    "# Define the directories containing information about race categories\n",
    "info_path_black = 'F:/younas/D2/Race/Black/'\n",
    "info_path_chinese = 'F:/younas/D2/Race/Chinese/'\n",
    "info_path_indian = 'F:/younas/D2/Race/Indian/'\n",
    "info_path_korean = 'F:/younas/D2/Race/Korean/'\n",
    "info_path_white = 'F:/younas/D2/Race/White/'"
   ]
  },
  {
   "cell_type": "code",
   "execution_count": null,
   "id": "69d7d1ca",
   "metadata": {},
   "outputs": [],
   "source": [
    "def get_folder_names(directory):\n",
    "    folder_names = []\n",
    "    for entry in os.scandir(directory):\n",
    "        if entry.is_dir():\n",
    "            folder_names.append(entry.name)\n",
    "    return folder_names\n",
    "\n",
    "# Function to copy folders from source to destination\n",
    "def copy_folders(source_dir, destination_dir, folder_names):\n",
    "    for folder_name in folder_names:\n",
    "        source_folder = os.path.join(source_dir, folder_name)\n",
    "        destination_folder = os.path.join(destination_dir, folder_name)\n",
    "        shutil.copytree(source_folder, destination_folder)"
   ]
  },
  {
   "cell_type": "code",
   "execution_count": null,
   "id": "1503ff1b",
   "metadata": {},
   "outputs": [],
   "source": [
    "# Get the folder names of each race category\n",
    "black_folder_names = get_folder_names(info_path_black)\n",
    "chinese_folder_names = get_folder_names(info_path_chinese)\n",
    "indian_folder_names = get_folder_names(info_path_indian)\n",
    "korean_folder_names = get_folder_names(info_path_korean)\n",
    "white_folder_names = get_folder_names(info_path_white)\n",
    "\n",
    "# Copy folders of individuals from the source directory to the respective destination directories based on race category\n",
    "copy_folders(source_directory, destination_directory_black, black_folder_names)\n",
    "copy_folders(source_directory, destination_directory_chinese, chinese_folder_names)\n",
    "copy_folders(source_directory, destination_directory_indian, indian_folder_names)\n",
    "copy_folders(source_directory, destination_directory_korean, korean_folder_names)\n",
    "copy_folders(source_directory, destination_directory_white, white_folder_names)"
   ]
  },
  {
   "cell_type": "code",
   "execution_count": null,
   "id": "8af56b9e",
   "metadata": {},
   "outputs": [],
   "source": []
  },
  {
   "cell_type": "code",
   "execution_count": null,
   "id": "02cf7562",
   "metadata": {},
   "outputs": [],
   "source": []
  }
 ],
 "metadata": {
  "kernelspec": {
   "display_name": "Python 3 (ipykernel)",
   "language": "python",
   "name": "python3"
  },
  "language_info": {
   "codemirror_mode": {
    "name": "ipython",
    "version": 3
   },
   "file_extension": ".py",
   "mimetype": "text/x-python",
   "name": "python",
   "nbconvert_exporter": "python",
   "pygments_lexer": "ipython3",
   "version": "3.9.13"
  }
 },
 "nbformat": 4,
 "nbformat_minor": 5
}
